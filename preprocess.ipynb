{
 "cells": [
  {
   "cell_type": "code",
   "execution_count": 1,
   "id": "e6d9b22a",
   "metadata": {},
   "outputs": [],
   "source": [
    "import numpy as np\n",
    "import pandas as pd"
   ]
  },
  {
   "cell_type": "code",
   "execution_count": 2,
   "id": "dfeeb246",
   "metadata": {},
   "outputs": [],
   "source": [
    "df= pd.read_csv('ckextended.csv')"
   ]
  },
  {
   "cell_type": "code",
   "execution_count": 3,
   "id": "4e462ff3",
   "metadata": {},
   "outputs": [
    {
     "name": "stdout",
     "output_type": "stream",
     "text": [
      "DataFrame after processing pixels and adding emotion labels:\n",
      "   emotion emotion_label                                             pixels  \\\n",
      "0        6        Neutro  36 39 35 25 19 11 8 7 3 13 15 9 21 57 75 90 10...   \n",
      "1        6        Neutro  88 74 19 4 5 5 3 12 8 21 15 21 15 18 24 29 32 ...   \n",
      "2        6        Neutro  9 2 4 7 1 1 1 0 7 29 49 76 115 141 156 169 177...   \n",
      "3        6        Neutro  104 106 108 104 95 50 60 61 58 83 126 133 139 ...   \n",
      "4        6        Neutro  68 72 67 67 6 2 1 1 1 1 1 14 24 24 38 65 79 94...   \n",
      "\n",
      "                                         pixels_list  \\\n",
      "0  [36.0, 39.0, 35.0, 25.0, 19.0, 11.0, 8.0, 7.0,...   \n",
      "1  [88.0, 74.0, 19.0, 4.0, 5.0, 5.0, 3.0, 12.0, 8...   \n",
      "2  [9.0, 2.0, 4.0, 7.0, 1.0, 1.0, 1.0, 0.0, 7.0, ...   \n",
      "3  [104.0, 106.0, 108.0, 104.0, 95.0, 50.0, 60.0,...   \n",
      "4  [68.0, 72.0, 67.0, 67.0, 6.0, 2.0, 1.0, 1.0, 1...   \n",
      "\n",
      "                                      image_reshaped     Usage  \n",
      "0  [[36.0, 39.0, 35.0, 25.0, 19.0, 11.0, 8.0, 7.0...  Training  \n",
      "1  [[88.0, 74.0, 19.0, 4.0, 5.0, 5.0, 3.0, 12.0, ...  Training  \n",
      "2  [[9.0, 2.0, 4.0, 7.0, 1.0, 1.0, 1.0, 0.0, 7.0,...  Training  \n",
      "3  [[104.0, 106.0, 108.0, 104.0, 95.0, 50.0, 60.0...  Training  \n",
      "4  [[68.0, 72.0, 67.0, 67.0, 6.0, 2.0, 1.0, 1.0, ...  Training  \n",
      "\n",
      "DataFrame info after adding new columns:\n",
      "<class 'pandas.core.frame.DataFrame'>\n",
      "RangeIndex: 920 entries, 0 to 919\n",
      "Data columns (total 7 columns):\n",
      " #   Column             Non-Null Count  Dtype \n",
      "---  ------             --------------  ----- \n",
      " 0   emotion            920 non-null    int64 \n",
      " 1   pixels             920 non-null    object\n",
      " 2   Usage              920 non-null    object\n",
      " 3   emotion_label      902 non-null    object\n",
      " 4   pixels_list        920 non-null    object\n",
      " 5   image_reshaped     920 non-null    object\n",
      " 6   pixels_normalized  920 non-null    object\n",
      "dtypes: int64(1), object(6)\n",
      "memory usage: 50.4+ KB\n",
      "None\n"
     ]
    }
   ],
   "source": [
    "\n",
    "\n",
    "# Map emotion labels\n",
    "emotion_labels = {0: 'Raiva', 1: 'Desgosto', 2: 'Medo', 3: 'Felicidade', 4: 'Tristeza', 5: 'Surpresa', 6: 'Neutro'}\n",
    "df['emotion_label'] = df['emotion'].map(emotion_labels)\n",
    "\n",
    "# Process pixels column\n",
    "df['pixels_list'] = df['pixels'].apply(lambda x: np.array(x.split(' '), dtype='float32'))\n",
    "\n",
    "# Reshape and normalize images\n",
    "image_size = (48, 48) # CK+ dataset images are usually 48x48\n",
    "df['image_reshaped'] = df['pixels_list'].apply(lambda x: x.reshape(image_size))\n",
    "df['pixels_normalized'] = df['pixels_list'].apply(lambda x: x / 255.0)\n",
    "\n",
    "print(\"DataFrame after processing pixels and adding emotion labels:\")\n",
    "print(df[['emotion', 'emotion_label', 'pixels', 'pixels_list', 'image_reshaped', 'Usage']].head())\n",
    "\n",
    "# Display info to confirm new column types\n",
    "print(\"\\nDataFrame info after adding new columns:\")\n",
    "print(df.info())"
   ]
  },
  {
   "cell_type": "code",
   "execution_count": 4,
   "id": "c3ef6a04",
   "metadata": {},
   "outputs": [
    {
     "name": "stdout",
     "output_type": "stream",
     "text": [
      "Os seguintes códigos de emoção não foram mapeados: [7]\n",
      "\n",
      "É provável que o dataset CK+ extended possua uma emoção 'Contempt' (Desprezo) que é geralmente mapeada para o número 1 no conjunto de 7 classes, mas às vezes pode vir com um mapeamento diferente ou uma emoção a mais/menos, ou até mesmo desprezo pode ser o 0 no FER.\n",
      "No CK+, o mapeamento padrão é geralmente:\n",
      "0=Neutro, 1=Raiva, 2=Contempt (Desprezo), 3=Desgosto, 4=Medo, 5=Felicidade, 6=Tristeza, 7=Surpresa.\n",
      "\n",
      "Considerando a diferença do dataset FER2013, onde geralmente desprezo é mapeado como 1. O CK+ tem 8 emoções, e o FER2013 tem 7. Precisamos padronizar. A emoção 'Desprezo' (Contempt) é o valor 1 na maioria das implementações do CK+, sendo 'Desgosto' o valor 2.\n",
      "\n",
      "Vamos ajustar o dicionário de mapeamento para as 7 emoções mais comuns, remapeando o 'desprezo' para 'raiva' ou 'desgosto', se o número de emoções for 7, ou adicionando uma nova classe se for 8.\n",
      "A forma mais segura é verificar os valores únicos da coluna emotion no dataset completo, para garantir o mapeamento correto.\n",
      "\n",
      "Todos os códigos de emoção únicos no dataset: [6 3 7 0 1 4 2 5]\n",
      "\n",
      "Vamos remover as linhas com emoções não mapeadas para simplificar por enquanto.\n",
      "Isso pode significar que algumas emoções (ex: desprezo) serão ignoradas se não forem remapeadas.\n",
      "\n",
      "DataFrame agora com 902 entradas após remover emoções não mapeadas.\n"
     ]
    }
   ],
   "source": [
    "# Encontrar as emoções não mapeadas\n",
    "unmapped_emotions = df[df['emotion_label'].isnull()]['emotion'].unique()\n",
    "\n",
    "if len(unmapped_emotions) > 0:\n",
    "    print(f\"Os seguintes códigos de emoção não foram mapeados: {unmapped_emotions}\")\n",
    "    print(\"\\nÉ provável que o dataset CK+ extended possua uma emoção 'Contempt' (Desprezo) que é geralmente mapeada para o número 1 no conjunto de 7 classes, mas às vezes pode vir com um mapeamento diferente ou uma emoção a mais/menos, ou até mesmo desprezo pode ser o 0 no FER.\")\n",
    "    print(\"No CK+, o mapeamento padrão é geralmente:\")\n",
    "    print(\"0=Neutro, 1=Raiva, 2=Contempt (Desprezo), 3=Desgosto, 4=Medo, 5=Felicidade, 6=Tristeza, 7=Surpresa.\")\n",
    "    print(\"\\nConsiderando a diferença do dataset FER2013, onde geralmente desprezo é mapeado como 1. O CK+ tem 8 emoções, e o FER2013 tem 7. Precisamos padronizar. A emoção 'Desprezo' (Contempt) é o valor 1 na maioria das implementações do CK+, sendo 'Desgosto' o valor 2.\")\n",
    "    print(\"\\nVamos ajustar o dicionário de mapeamento para as 7 emoções mais comuns, remapeando o 'desprezo' para 'raiva' ou 'desgosto', se o número de emoções for 7, ou adicionando uma nova classe se for 8.\")\n",
    "    print(\"A forma mais segura é verificar os valores únicos da coluna emotion no dataset completo, para garantir o mapeamento correto.\")\n",
    "\n",
    "    # Vamos verificar todos os valores únicos na coluna 'emotion'\n",
    "    all_unique_emotions = df['emotion'].unique()\n",
    "    print(f\"\\nTodos os códigos de emoção únicos no dataset: {all_unique_emotions}\")\n",
    "\n",
    "    # Para seguir com 7 classes, podemos remapear o desprezo se ele for um valor não mapeado.\n",
    "    # Se '1' for o valor não mapeado, e no CK+ 'desprezo' é 1, vamos incluí-lo.\n",
    "    # Para o CK+, o mapeamento padrão é:\n",
    "    # 0: Neutro\n",
    "    # 1: Raiva\n",
    "    # 2: Contempt (Desprezo) - se seu dataset tiver 8, este é o 2\n",
    "    # 3: Desgosto\n",
    "    # 4: Medo\n",
    "    # 5: Felicidade\n",
    "    # 6: Tristeza\n",
    "    # 7: Surpresa\n",
    "    # Mas como estamos usando 7 classes, e o FER2013 tem 0-6, e seu emotion_label tem 0-6,\n",
    "    # significa que 0-6 já foi mapeado, e o problema é outro número.\n",
    "\n",
    "    # Vamos tentar o mapeamento mais comum para 7 classes, onde o \"desprezo\" (contempt)\n",
    "    # é muitas vezes ignorado ou agrupado com \"raiva\" ou \"desgosto\".\n",
    "    # Pela saída, parece que os valores estão entre 0 e 6 (para 7 classes).\n",
    "    # O problema são os 18 valores nulos.\n",
    "\n",
    "    # Assumindo que o CK+ extended que você tem segue o mapeamento de 7 emoções, mas com uma numeração diferente\n",
    "    # ou que os valores nulos são para uma classe rara que podemos descartar ou remapear.\n",
    "    # Se os valores não mapeados são por exemplo [7], isso indicaria 8 classes, e precisaríamos ajustar.\n",
    "    # Pela sua saída inicial, o `emotion` da primeira linha é 6 (Neutro), o que indica que 0-6 é o range.\n",
    "    # Os valores nulos significam que alguma emoção *dentro* desse range ou fora dele (se for o caso de 8 classes)\n",
    "    # não está no dicionário.\n",
    "\n",
    "    # O ideal é confirmar o mapeamento oficial do seu ckextended.csv.\n",
    "    # No entanto, para continuar, vou assumir que os 18 valores nulos são de uma emoção que não se encaixa nas 7 classes\n",
    "    # e que, para simplificar, podemos removê-los do dataset.\n",
    "    # Em um projeto real, você pesquisaria o mapeamento exato para o 'ckextended.csv'.\n",
    "    print(\"\\nVamos remover as linhas com emoções não mapeadas para simplificar por enquanto.\")\n",
    "    print(\"Isso pode significar que algumas emoções (ex: desprezo) serão ignoradas se não forem remapeadas.\")\n",
    "\n",
    "    # Remover linhas com emotion_label nulo\n",
    "    df.dropna(subset=['emotion_label'], inplace=True)\n",
    "    print(f\"\\nDataFrame agora com {len(df)} entradas após remover emoções não mapeadas.\")\n",
    "\n",
    "else:\n",
    "    print(\"Todos os códigos de emoção foram mapeados com sucesso. Ótimo!\")"
   ]
  },
  {
   "cell_type": "code",
   "execution_count": 5,
   "id": "3cfdc380",
   "metadata": {},
   "outputs": [
    {
     "name": "stdout",
     "output_type": "stream",
     "text": [
      "Número de linhas antes da remoção de NaN: 920\n",
      "Número de linhas após a remoção de NaN: 902\n",
      "\n",
      "Formato de X_train (imagens de treino): (720, 48, 48, 1)\n",
      "Formato de y_train (rótulos de treino): (720, 7)\n",
      "Formato de X_test (imagens de teste): (89, 48, 48, 1)\n",
      "Formato de y_test (rótulos de teste): (89, 7)\n",
      "\n",
      "Primeiro rótulo de emoção original no treino (após remoção de NaN): 6\n",
      "Primeiro rótulo de emoção one-hot encoded no treino: [0. 0. 0. 0. 0. 0. 1.]\n"
     ]
    }
   ],
   "source": [
    "import numpy as np\n",
    "import pandas as pd\n",
    "from tensorflow.keras.utils import to_categorical\n",
    "\n",
    "# Recarrega o DataFrame e executa o pré-processamento inicial novamente para garantir o estado\n",
    "# Isso é importante caso você tenha reiniciado seu ambiente ou a execução anterior não tenha salvo 'df'.\n",
    "df = pd.read_csv('ckextended.csv')\n",
    "\n",
    "# Mapeamento das emoções\n",
    "emotion_labels = {0: 'Raiva', 1: 'Desgosto', 2: 'Medo', 3: 'Felicidade', 4: 'Tristeza', 5: 'Surpresa', 6: 'Neutro'}\n",
    "df['emotion_label'] = df['emotion'].map(emotion_labels)\n",
    "\n",
    "# Processar coluna de pixels\n",
    "df['pixels_list'] = df['pixels'].apply(lambda x: np.array(x.split(' '), dtype='float32'))\n",
    "\n",
    "# Remodelar e normalizar imagens\n",
    "image_size = (48, 48)\n",
    "df['image_reshaped'] = df['pixels_list'].apply(lambda x: x.reshape(image_size))\n",
    "df['pixels_normalized'] = df['pixels_list'].apply(lambda x: x / 255.0)\n",
    "\n",
    "\n",
    "# --- INÍCIO DO CÓDIGO NOVO ---\n",
    "\n",
    "# 1. Remover linhas com emoções não mapeadas (valores NaN em 'emotion_label')\n",
    "initial_rows = len(df)\n",
    "df.dropna(subset=['emotion_label'], inplace=True)\n",
    "print(f\"Número de linhas antes da remoção de NaN: {initial_rows}\")\n",
    "print(f\"Número de linhas após a remoção de NaN: {len(df)}\")\n",
    "\n",
    "\n",
    "# 2. Separar dados de treino e teste baseados na coluna 'Usage'\n",
    "train_df = df[df['Usage'] == 'Training']\n",
    "test_df = df[df['Usage'] == 'PublicTest']\n",
    "\n",
    "# Converter listas de pixels em arrays NumPy e normalizar, adicionando a dimensão do canal (1 para escala de cinza)\n",
    "X_train = np.array([img.reshape(48, 48, 1) for img in train_df['pixels_normalized']])\n",
    "X_test = np.array([img.reshape(48, 48, 1) for img in test_df['pixels_normalized']])\n",
    "\n",
    "# 3. Codificar rótulos de emoção para one-hot encoding\n",
    "num_classes = len(emotion_labels)\n",
    "y_train = to_categorical(train_df['emotion'], num_classes=num_classes)\n",
    "y_test = to_categorical(test_df['emotion'], num_classes=num_classes)\n",
    "\n",
    "print(\"\\nFormato de X_train (imagens de treino):\", X_train.shape)\n",
    "print(\"Formato de y_train (rótulos de treino):\", y_train.shape)\n",
    "print(\"Formato de X_test (imagens de teste):\", X_test.shape)\n",
    "print(\"Formato de y_test (rótulos de teste):\", y_test.shape)\n",
    "\n",
    "print(\"\\nPrimeiro rótulo de emoção original no treino (após remoção de NaN):\", train_df['emotion'].iloc[0])\n",
    "print(\"Primeiro rótulo de emoção one-hot encoded no treino:\", y_train[0])"
   ]
  },
  {
   "cell_type": "code",
   "execution_count": 6,
   "id": "9ac16402",
   "metadata": {},
   "outputs": [],
   "source": [
    "import tensorflow as tf\n",
    "from tensorflow.keras.models import Sequential\n",
    "from tensorflow.keras.layers import Conv2D, MaxPooling2D, Flatten, Dense, Dropout\n",
    "from tensorflow.keras.optimizers import Adam\n",
    "# Certifique-se de que X_train, y_train, X_test, y_test e num_classes\n",
    "# estejam disponíveis no seu ambiente a partir da execução anterior."
   ]
  },
  {
   "cell_type": "code",
   "execution_count": 7,
   "id": "27d790da",
   "metadata": {},
   "outputs": [
    {
     "name": "stdout",
     "output_type": "stream",
     "text": [
      "Resumo do Modelo:\n"
     ]
    },
    {
     "name": "stderr",
     "output_type": "stream",
     "text": [
      "c:\\Users\\PedroNeves\\Desktop\\Projetinhos\\Realtime-Emotion-Detection\\.venv\\lib\\site-packages\\keras\\src\\layers\\convolutional\\base_conv.py:113: UserWarning: Do not pass an `input_shape`/`input_dim` argument to a layer. When using Sequential models, prefer using an `Input(shape)` object as the first layer in the model instead.\n",
      "  super().__init__(activity_regularizer=activity_regularizer, **kwargs)\n"
     ]
    },
    {
     "data": {
      "text/html": [
       "<pre style=\"white-space:pre;overflow-x:auto;line-height:normal;font-family:Menlo,'DejaVu Sans Mono',consolas,'Courier New',monospace\"><span style=\"font-weight: bold\">Model: \"sequential\"</span>\n",
       "</pre>\n"
      ],
      "text/plain": [
       "\u001b[1mModel: \"sequential\"\u001b[0m\n"
      ]
     },
     "metadata": {},
     "output_type": "display_data"
    },
    {
     "data": {
      "text/html": [
       "<pre style=\"white-space:pre;overflow-x:auto;line-height:normal;font-family:Menlo,'DejaVu Sans Mono',consolas,'Courier New',monospace\">┏━━━━━━━━━━━━━━━━━━━━━━━━━━━━━━━━━┳━━━━━━━━━━━━━━━━━━━━━━━━┳━━━━━━━━━━━━━━━┓\n",
       "┃<span style=\"font-weight: bold\"> Layer (type)                    </span>┃<span style=\"font-weight: bold\"> Output Shape           </span>┃<span style=\"font-weight: bold\">       Param # </span>┃\n",
       "┡━━━━━━━━━━━━━━━━━━━━━━━━━━━━━━━━━╇━━━━━━━━━━━━━━━━━━━━━━━━╇━━━━━━━━━━━━━━━┩\n",
       "│ conv2d (<span style=\"color: #0087ff; text-decoration-color: #0087ff\">Conv2D</span>)                 │ (<span style=\"color: #00d7ff; text-decoration-color: #00d7ff\">None</span>, <span style=\"color: #00af00; text-decoration-color: #00af00\">46</span>, <span style=\"color: #00af00; text-decoration-color: #00af00\">46</span>, <span style=\"color: #00af00; text-decoration-color: #00af00\">32</span>)     │           <span style=\"color: #00af00; text-decoration-color: #00af00\">320</span> │\n",
       "├─────────────────────────────────┼────────────────────────┼───────────────┤\n",
       "│ max_pooling2d (<span style=\"color: #0087ff; text-decoration-color: #0087ff\">MaxPooling2D</span>)    │ (<span style=\"color: #00d7ff; text-decoration-color: #00d7ff\">None</span>, <span style=\"color: #00af00; text-decoration-color: #00af00\">23</span>, <span style=\"color: #00af00; text-decoration-color: #00af00\">23</span>, <span style=\"color: #00af00; text-decoration-color: #00af00\">32</span>)     │             <span style=\"color: #00af00; text-decoration-color: #00af00\">0</span> │\n",
       "├─────────────────────────────────┼────────────────────────┼───────────────┤\n",
       "│ dropout (<span style=\"color: #0087ff; text-decoration-color: #0087ff\">Dropout</span>)               │ (<span style=\"color: #00d7ff; text-decoration-color: #00d7ff\">None</span>, <span style=\"color: #00af00; text-decoration-color: #00af00\">23</span>, <span style=\"color: #00af00; text-decoration-color: #00af00\">23</span>, <span style=\"color: #00af00; text-decoration-color: #00af00\">32</span>)     │             <span style=\"color: #00af00; text-decoration-color: #00af00\">0</span> │\n",
       "├─────────────────────────────────┼────────────────────────┼───────────────┤\n",
       "│ conv2d_1 (<span style=\"color: #0087ff; text-decoration-color: #0087ff\">Conv2D</span>)               │ (<span style=\"color: #00d7ff; text-decoration-color: #00d7ff\">None</span>, <span style=\"color: #00af00; text-decoration-color: #00af00\">21</span>, <span style=\"color: #00af00; text-decoration-color: #00af00\">21</span>, <span style=\"color: #00af00; text-decoration-color: #00af00\">64</span>)     │        <span style=\"color: #00af00; text-decoration-color: #00af00\">18,496</span> │\n",
       "├─────────────────────────────────┼────────────────────────┼───────────────┤\n",
       "│ max_pooling2d_1 (<span style=\"color: #0087ff; text-decoration-color: #0087ff\">MaxPooling2D</span>)  │ (<span style=\"color: #00d7ff; text-decoration-color: #00d7ff\">None</span>, <span style=\"color: #00af00; text-decoration-color: #00af00\">10</span>, <span style=\"color: #00af00; text-decoration-color: #00af00\">10</span>, <span style=\"color: #00af00; text-decoration-color: #00af00\">64</span>)     │             <span style=\"color: #00af00; text-decoration-color: #00af00\">0</span> │\n",
       "├─────────────────────────────────┼────────────────────────┼───────────────┤\n",
       "│ dropout_1 (<span style=\"color: #0087ff; text-decoration-color: #0087ff\">Dropout</span>)             │ (<span style=\"color: #00d7ff; text-decoration-color: #00d7ff\">None</span>, <span style=\"color: #00af00; text-decoration-color: #00af00\">10</span>, <span style=\"color: #00af00; text-decoration-color: #00af00\">10</span>, <span style=\"color: #00af00; text-decoration-color: #00af00\">64</span>)     │             <span style=\"color: #00af00; text-decoration-color: #00af00\">0</span> │\n",
       "├─────────────────────────────────┼────────────────────────┼───────────────┤\n",
       "│ conv2d_2 (<span style=\"color: #0087ff; text-decoration-color: #0087ff\">Conv2D</span>)               │ (<span style=\"color: #00d7ff; text-decoration-color: #00d7ff\">None</span>, <span style=\"color: #00af00; text-decoration-color: #00af00\">8</span>, <span style=\"color: #00af00; text-decoration-color: #00af00\">8</span>, <span style=\"color: #00af00; text-decoration-color: #00af00\">128</span>)      │        <span style=\"color: #00af00; text-decoration-color: #00af00\">73,856</span> │\n",
       "├─────────────────────────────────┼────────────────────────┼───────────────┤\n",
       "│ max_pooling2d_2 (<span style=\"color: #0087ff; text-decoration-color: #0087ff\">MaxPooling2D</span>)  │ (<span style=\"color: #00d7ff; text-decoration-color: #00d7ff\">None</span>, <span style=\"color: #00af00; text-decoration-color: #00af00\">4</span>, <span style=\"color: #00af00; text-decoration-color: #00af00\">4</span>, <span style=\"color: #00af00; text-decoration-color: #00af00\">128</span>)      │             <span style=\"color: #00af00; text-decoration-color: #00af00\">0</span> │\n",
       "├─────────────────────────────────┼────────────────────────┼───────────────┤\n",
       "│ dropout_2 (<span style=\"color: #0087ff; text-decoration-color: #0087ff\">Dropout</span>)             │ (<span style=\"color: #00d7ff; text-decoration-color: #00d7ff\">None</span>, <span style=\"color: #00af00; text-decoration-color: #00af00\">4</span>, <span style=\"color: #00af00; text-decoration-color: #00af00\">4</span>, <span style=\"color: #00af00; text-decoration-color: #00af00\">128</span>)      │             <span style=\"color: #00af00; text-decoration-color: #00af00\">0</span> │\n",
       "├─────────────────────────────────┼────────────────────────┼───────────────┤\n",
       "│ flatten (<span style=\"color: #0087ff; text-decoration-color: #0087ff\">Flatten</span>)               │ (<span style=\"color: #00d7ff; text-decoration-color: #00d7ff\">None</span>, <span style=\"color: #00af00; text-decoration-color: #00af00\">2048</span>)           │             <span style=\"color: #00af00; text-decoration-color: #00af00\">0</span> │\n",
       "├─────────────────────────────────┼────────────────────────┼───────────────┤\n",
       "│ dense (<span style=\"color: #0087ff; text-decoration-color: #0087ff\">Dense</span>)                   │ (<span style=\"color: #00d7ff; text-decoration-color: #00d7ff\">None</span>, <span style=\"color: #00af00; text-decoration-color: #00af00\">128</span>)            │       <span style=\"color: #00af00; text-decoration-color: #00af00\">262,272</span> │\n",
       "├─────────────────────────────────┼────────────────────────┼───────────────┤\n",
       "│ dropout_3 (<span style=\"color: #0087ff; text-decoration-color: #0087ff\">Dropout</span>)             │ (<span style=\"color: #00d7ff; text-decoration-color: #00d7ff\">None</span>, <span style=\"color: #00af00; text-decoration-color: #00af00\">128</span>)            │             <span style=\"color: #00af00; text-decoration-color: #00af00\">0</span> │\n",
       "├─────────────────────────────────┼────────────────────────┼───────────────┤\n",
       "│ dense_1 (<span style=\"color: #0087ff; text-decoration-color: #0087ff\">Dense</span>)                 │ (<span style=\"color: #00d7ff; text-decoration-color: #00d7ff\">None</span>, <span style=\"color: #00af00; text-decoration-color: #00af00\">7</span>)              │           <span style=\"color: #00af00; text-decoration-color: #00af00\">903</span> │\n",
       "└─────────────────────────────────┴────────────────────────┴───────────────┘\n",
       "</pre>\n"
      ],
      "text/plain": [
       "┏━━━━━━━━━━━━━━━━━━━━━━━━━━━━━━━━━┳━━━━━━━━━━━━━━━━━━━━━━━━┳━━━━━━━━━━━━━━━┓\n",
       "┃\u001b[1m \u001b[0m\u001b[1mLayer (type)                   \u001b[0m\u001b[1m \u001b[0m┃\u001b[1m \u001b[0m\u001b[1mOutput Shape          \u001b[0m\u001b[1m \u001b[0m┃\u001b[1m \u001b[0m\u001b[1m      Param #\u001b[0m\u001b[1m \u001b[0m┃\n",
       "┡━━━━━━━━━━━━━━━━━━━━━━━━━━━━━━━━━╇━━━━━━━━━━━━━━━━━━━━━━━━╇━━━━━━━━━━━━━━━┩\n",
       "│ conv2d (\u001b[38;5;33mConv2D\u001b[0m)                 │ (\u001b[38;5;45mNone\u001b[0m, \u001b[38;5;34m46\u001b[0m, \u001b[38;5;34m46\u001b[0m, \u001b[38;5;34m32\u001b[0m)     │           \u001b[38;5;34m320\u001b[0m │\n",
       "├─────────────────────────────────┼────────────────────────┼───────────────┤\n",
       "│ max_pooling2d (\u001b[38;5;33mMaxPooling2D\u001b[0m)    │ (\u001b[38;5;45mNone\u001b[0m, \u001b[38;5;34m23\u001b[0m, \u001b[38;5;34m23\u001b[0m, \u001b[38;5;34m32\u001b[0m)     │             \u001b[38;5;34m0\u001b[0m │\n",
       "├─────────────────────────────────┼────────────────────────┼───────────────┤\n",
       "│ dropout (\u001b[38;5;33mDropout\u001b[0m)               │ (\u001b[38;5;45mNone\u001b[0m, \u001b[38;5;34m23\u001b[0m, \u001b[38;5;34m23\u001b[0m, \u001b[38;5;34m32\u001b[0m)     │             \u001b[38;5;34m0\u001b[0m │\n",
       "├─────────────────────────────────┼────────────────────────┼───────────────┤\n",
       "│ conv2d_1 (\u001b[38;5;33mConv2D\u001b[0m)               │ (\u001b[38;5;45mNone\u001b[0m, \u001b[38;5;34m21\u001b[0m, \u001b[38;5;34m21\u001b[0m, \u001b[38;5;34m64\u001b[0m)     │        \u001b[38;5;34m18,496\u001b[0m │\n",
       "├─────────────────────────────────┼────────────────────────┼───────────────┤\n",
       "│ max_pooling2d_1 (\u001b[38;5;33mMaxPooling2D\u001b[0m)  │ (\u001b[38;5;45mNone\u001b[0m, \u001b[38;5;34m10\u001b[0m, \u001b[38;5;34m10\u001b[0m, \u001b[38;5;34m64\u001b[0m)     │             \u001b[38;5;34m0\u001b[0m │\n",
       "├─────────────────────────────────┼────────────────────────┼───────────────┤\n",
       "│ dropout_1 (\u001b[38;5;33mDropout\u001b[0m)             │ (\u001b[38;5;45mNone\u001b[0m, \u001b[38;5;34m10\u001b[0m, \u001b[38;5;34m10\u001b[0m, \u001b[38;5;34m64\u001b[0m)     │             \u001b[38;5;34m0\u001b[0m │\n",
       "├─────────────────────────────────┼────────────────────────┼───────────────┤\n",
       "│ conv2d_2 (\u001b[38;5;33mConv2D\u001b[0m)               │ (\u001b[38;5;45mNone\u001b[0m, \u001b[38;5;34m8\u001b[0m, \u001b[38;5;34m8\u001b[0m, \u001b[38;5;34m128\u001b[0m)      │        \u001b[38;5;34m73,856\u001b[0m │\n",
       "├─────────────────────────────────┼────────────────────────┼───────────────┤\n",
       "│ max_pooling2d_2 (\u001b[38;5;33mMaxPooling2D\u001b[0m)  │ (\u001b[38;5;45mNone\u001b[0m, \u001b[38;5;34m4\u001b[0m, \u001b[38;5;34m4\u001b[0m, \u001b[38;5;34m128\u001b[0m)      │             \u001b[38;5;34m0\u001b[0m │\n",
       "├─────────────────────────────────┼────────────────────────┼───────────────┤\n",
       "│ dropout_2 (\u001b[38;5;33mDropout\u001b[0m)             │ (\u001b[38;5;45mNone\u001b[0m, \u001b[38;5;34m4\u001b[0m, \u001b[38;5;34m4\u001b[0m, \u001b[38;5;34m128\u001b[0m)      │             \u001b[38;5;34m0\u001b[0m │\n",
       "├─────────────────────────────────┼────────────────────────┼───────────────┤\n",
       "│ flatten (\u001b[38;5;33mFlatten\u001b[0m)               │ (\u001b[38;5;45mNone\u001b[0m, \u001b[38;5;34m2048\u001b[0m)           │             \u001b[38;5;34m0\u001b[0m │\n",
       "├─────────────────────────────────┼────────────────────────┼───────────────┤\n",
       "│ dense (\u001b[38;5;33mDense\u001b[0m)                   │ (\u001b[38;5;45mNone\u001b[0m, \u001b[38;5;34m128\u001b[0m)            │       \u001b[38;5;34m262,272\u001b[0m │\n",
       "├─────────────────────────────────┼────────────────────────┼───────────────┤\n",
       "│ dropout_3 (\u001b[38;5;33mDropout\u001b[0m)             │ (\u001b[38;5;45mNone\u001b[0m, \u001b[38;5;34m128\u001b[0m)            │             \u001b[38;5;34m0\u001b[0m │\n",
       "├─────────────────────────────────┼────────────────────────┼───────────────┤\n",
       "│ dense_1 (\u001b[38;5;33mDense\u001b[0m)                 │ (\u001b[38;5;45mNone\u001b[0m, \u001b[38;5;34m7\u001b[0m)              │           \u001b[38;5;34m903\u001b[0m │\n",
       "└─────────────────────────────────┴────────────────────────┴───────────────┘\n"
      ]
     },
     "metadata": {},
     "output_type": "display_data"
    },
    {
     "data": {
      "text/html": [
       "<pre style=\"white-space:pre;overflow-x:auto;line-height:normal;font-family:Menlo,'DejaVu Sans Mono',consolas,'Courier New',monospace\"><span style=\"font-weight: bold\"> Total params: </span><span style=\"color: #00af00; text-decoration-color: #00af00\">355,847</span> (1.36 MB)\n",
       "</pre>\n"
      ],
      "text/plain": [
       "\u001b[1m Total params: \u001b[0m\u001b[38;5;34m355,847\u001b[0m (1.36 MB)\n"
      ]
     },
     "metadata": {},
     "output_type": "display_data"
    },
    {
     "data": {
      "text/html": [
       "<pre style=\"white-space:pre;overflow-x:auto;line-height:normal;font-family:Menlo,'DejaVu Sans Mono',consolas,'Courier New',monospace\"><span style=\"font-weight: bold\"> Trainable params: </span><span style=\"color: #00af00; text-decoration-color: #00af00\">355,847</span> (1.36 MB)\n",
       "</pre>\n"
      ],
      "text/plain": [
       "\u001b[1m Trainable params: \u001b[0m\u001b[38;5;34m355,847\u001b[0m (1.36 MB)\n"
      ]
     },
     "metadata": {},
     "output_type": "display_data"
    },
    {
     "data": {
      "text/html": [
       "<pre style=\"white-space:pre;overflow-x:auto;line-height:normal;font-family:Menlo,'DejaVu Sans Mono',consolas,'Courier New',monospace\"><span style=\"font-weight: bold\"> Non-trainable params: </span><span style=\"color: #00af00; text-decoration-color: #00af00\">0</span> (0.00 B)\n",
       "</pre>\n"
      ],
      "text/plain": [
       "\u001b[1m Non-trainable params: \u001b[0m\u001b[38;5;34m0\u001b[0m (0.00 B)\n"
      ]
     },
     "metadata": {},
     "output_type": "display_data"
    },
    {
     "name": "stdout",
     "output_type": "stream",
     "text": [
      "Epoch 1/50\n",
      "\u001b[1m12/12\u001b[0m \u001b[32m━━━━━━━━━━━━━━━━━━━━\u001b[0m\u001b[37m\u001b[0m \u001b[1m2s\u001b[0m 44ms/step - accuracy: 0.4970 - loss: 1.5939 - val_accuracy: 0.6629 - val_loss: 1.3423\n",
      "Epoch 2/50\n",
      "\u001b[1m12/12\u001b[0m \u001b[32m━━━━━━━━━━━━━━━━━━━━\u001b[0m\u001b[37m\u001b[0m \u001b[1m0s\u001b[0m 23ms/step - accuracy: 0.6890 - loss: 1.2762 - val_accuracy: 0.6629 - val_loss: 1.5859\n",
      "Epoch 3/50\n",
      "\u001b[1m12/12\u001b[0m \u001b[32m━━━━━━━━━━━━━━━━━━━━\u001b[0m\u001b[37m\u001b[0m \u001b[1m0s\u001b[0m 21ms/step - accuracy: 0.6534 - loss: 1.3185 - val_accuracy: 0.6629 - val_loss: 1.4197\n",
      "Epoch 4/50\n",
      "\u001b[1m12/12\u001b[0m \u001b[32m━━━━━━━━━━━━━━━━━━━━\u001b[0m\u001b[37m\u001b[0m \u001b[1m0s\u001b[0m 22ms/step - accuracy: 0.6599 - loss: 1.2992 - val_accuracy: 0.6629 - val_loss: 1.4084\n",
      "Epoch 5/50\n",
      "\u001b[1m12/12\u001b[0m \u001b[32m━━━━━━━━━━━━━━━━━━━━\u001b[0m\u001b[37m\u001b[0m \u001b[1m0s\u001b[0m 25ms/step - accuracy: 0.6589 - loss: 1.3293 - val_accuracy: 0.6629 - val_loss: 1.3229\n",
      "Epoch 6/50\n",
      "\u001b[1m12/12\u001b[0m \u001b[32m━━━━━━━━━━━━━━━━━━━━\u001b[0m\u001b[37m\u001b[0m \u001b[1m0s\u001b[0m 22ms/step - accuracy: 0.6627 - loss: 1.2660 - val_accuracy: 0.6629 - val_loss: 1.4629\n",
      "Epoch 7/50\n",
      "\u001b[1m12/12\u001b[0m \u001b[32m━━━━━━━━━━━━━━━━━━━━\u001b[0m\u001b[37m\u001b[0m \u001b[1m0s\u001b[0m 23ms/step - accuracy: 0.6643 - loss: 1.2815 - val_accuracy: 0.6629 - val_loss: 1.3969\n",
      "Epoch 8/50\n",
      "\u001b[1m12/12\u001b[0m \u001b[32m━━━━━━━━━━━━━━━━━━━━\u001b[0m\u001b[37m\u001b[0m \u001b[1m0s\u001b[0m 24ms/step - accuracy: 0.6640 - loss: 1.2497 - val_accuracy: 0.6629 - val_loss: 1.3983\n",
      "Epoch 9/50\n",
      "\u001b[1m12/12\u001b[0m \u001b[32m━━━━━━━━━━━━━━━━━━━━\u001b[0m\u001b[37m\u001b[0m \u001b[1m0s\u001b[0m 22ms/step - accuracy: 0.6458 - loss: 1.2837 - val_accuracy: 0.6629 - val_loss: 1.2574\n",
      "Epoch 10/50\n",
      "\u001b[1m12/12\u001b[0m \u001b[32m━━━━━━━━━━━━━━━━━━━━\u001b[0m\u001b[37m\u001b[0m \u001b[1m0s\u001b[0m 22ms/step - accuracy: 0.6534 - loss: 1.2955 - val_accuracy: 0.6629 - val_loss: 1.3045\n",
      "Epoch 11/50\n",
      "\u001b[1m12/12\u001b[0m \u001b[32m━━━━━━━━━━━━━━━━━━━━\u001b[0m\u001b[37m\u001b[0m \u001b[1m0s\u001b[0m 23ms/step - accuracy: 0.6873 - loss: 1.2101 - val_accuracy: 0.6629 - val_loss: 1.3925\n",
      "Epoch 12/50\n",
      "\u001b[1m12/12\u001b[0m \u001b[32m━━━━━━━━━━━━━━━━━━━━\u001b[0m\u001b[37m\u001b[0m \u001b[1m0s\u001b[0m 23ms/step - accuracy: 0.6675 - loss: 1.2230 - val_accuracy: 0.6629 - val_loss: 1.2824\n",
      "Epoch 13/50\n",
      "\u001b[1m12/12\u001b[0m \u001b[32m━━━━━━━━━━━━━━━━━━━━\u001b[0m\u001b[37m\u001b[0m \u001b[1m0s\u001b[0m 23ms/step - accuracy: 0.6679 - loss: 1.1840 - val_accuracy: 0.6629 - val_loss: 1.1736\n",
      "Epoch 14/50\n",
      "\u001b[1m12/12\u001b[0m \u001b[32m━━━━━━━━━━━━━━━━━━━━\u001b[0m\u001b[37m\u001b[0m \u001b[1m0s\u001b[0m 22ms/step - accuracy: 0.6376 - loss: 1.2040 - val_accuracy: 0.6629 - val_loss: 1.0881\n",
      "Epoch 15/50\n",
      "\u001b[1m12/12\u001b[0m \u001b[32m━━━━━━━━━━━━━━━━━━━━\u001b[0m\u001b[37m\u001b[0m \u001b[1m0s\u001b[0m 23ms/step - accuracy: 0.6764 - loss: 1.0437 - val_accuracy: 0.6966 - val_loss: 1.0133\n",
      "Epoch 16/50\n",
      "\u001b[1m12/12\u001b[0m \u001b[32m━━━━━━━━━━━━━━━━━━━━\u001b[0m\u001b[37m\u001b[0m \u001b[1m0s\u001b[0m 23ms/step - accuracy: 0.6829 - loss: 1.0032 - val_accuracy: 0.7528 - val_loss: 0.8629\n",
      "Epoch 17/50\n",
      "\u001b[1m12/12\u001b[0m \u001b[32m━━━━━━━━━━━━━━━━━━━━\u001b[0m\u001b[37m\u001b[0m \u001b[1m0s\u001b[0m 22ms/step - accuracy: 0.7333 - loss: 0.8686 - val_accuracy: 0.7528 - val_loss: 0.7869\n",
      "Epoch 18/50\n",
      "\u001b[1m12/12\u001b[0m \u001b[32m━━━━━━━━━━━━━━━━━━━━\u001b[0m\u001b[37m\u001b[0m \u001b[1m0s\u001b[0m 24ms/step - accuracy: 0.7368 - loss: 0.8573 - val_accuracy: 0.8202 - val_loss: 0.7002\n",
      "Epoch 19/50\n",
      "\u001b[1m12/12\u001b[0m \u001b[32m━━━━━━━━━━━━━━━━━━━━\u001b[0m\u001b[37m\u001b[0m \u001b[1m0s\u001b[0m 24ms/step - accuracy: 0.7750 - loss: 0.7412 - val_accuracy: 0.7978 - val_loss: 0.6998\n",
      "Epoch 20/50\n",
      "\u001b[1m12/12\u001b[0m \u001b[32m━━━━━━━━━━━━━━━━━━━━\u001b[0m\u001b[37m\u001b[0m \u001b[1m0s\u001b[0m 24ms/step - accuracy: 0.7983 - loss: 0.7207 - val_accuracy: 0.8315 - val_loss: 0.6443\n",
      "Epoch 21/50\n",
      "\u001b[1m12/12\u001b[0m \u001b[32m━━━━━━━━━━━━━━━━━━━━\u001b[0m\u001b[37m\u001b[0m \u001b[1m0s\u001b[0m 25ms/step - accuracy: 0.8106 - loss: 0.6866 - val_accuracy: 0.8539 - val_loss: 0.6155\n",
      "Epoch 22/50\n",
      "\u001b[1m12/12\u001b[0m \u001b[32m━━━━━━━━━━━━━━━━━━━━\u001b[0m\u001b[37m\u001b[0m \u001b[1m0s\u001b[0m 24ms/step - accuracy: 0.8149 - loss: 0.6645 - val_accuracy: 0.8427 - val_loss: 0.6659\n",
      "Epoch 23/50\n",
      "\u001b[1m12/12\u001b[0m \u001b[32m━━━━━━━━━━━━━━━━━━━━\u001b[0m\u001b[37m\u001b[0m \u001b[1m0s\u001b[0m 24ms/step - accuracy: 0.8189 - loss: 0.6514 - val_accuracy: 0.8539 - val_loss: 0.6072\n",
      "Epoch 24/50\n",
      "\u001b[1m12/12\u001b[0m \u001b[32m━━━━━━━━━━━━━━━━━━━━\u001b[0m\u001b[37m\u001b[0m \u001b[1m0s\u001b[0m 23ms/step - accuracy: 0.8336 - loss: 0.5771 - val_accuracy: 0.8652 - val_loss: 0.5524\n",
      "Epoch 25/50\n",
      "\u001b[1m12/12\u001b[0m \u001b[32m━━━━━━━━━━━━━━━━━━━━\u001b[0m\u001b[37m\u001b[0m \u001b[1m0s\u001b[0m 24ms/step - accuracy: 0.8290 - loss: 0.5881 - val_accuracy: 0.8539 - val_loss: 0.5557\n",
      "Epoch 26/50\n",
      "\u001b[1m12/12\u001b[0m \u001b[32m━━━━━━━━━━━━━━━━━━━━\u001b[0m\u001b[37m\u001b[0m \u001b[1m0s\u001b[0m 24ms/step - accuracy: 0.8290 - loss: 0.5191 - val_accuracy: 0.8427 - val_loss: 0.5679\n",
      "Epoch 27/50\n",
      "\u001b[1m12/12\u001b[0m \u001b[32m━━━━━━━━━━━━━━━━━━━━\u001b[0m\u001b[37m\u001b[0m \u001b[1m0s\u001b[0m 23ms/step - accuracy: 0.8399 - loss: 0.5425 - val_accuracy: 0.8539 - val_loss: 0.5545\n",
      "Epoch 28/50\n",
      "\u001b[1m12/12\u001b[0m \u001b[32m━━━━━━━━━━━━━━━━━━━━\u001b[0m\u001b[37m\u001b[0m \u001b[1m0s\u001b[0m 26ms/step - accuracy: 0.8140 - loss: 0.5314 - val_accuracy: 0.8764 - val_loss: 0.5350\n",
      "Epoch 29/50\n",
      "\u001b[1m12/12\u001b[0m \u001b[32m━━━━━━━━━━━━━━━━━━━━\u001b[0m\u001b[37m\u001b[0m \u001b[1m0s\u001b[0m 24ms/step - accuracy: 0.8393 - loss: 0.5183 - val_accuracy: 0.8764 - val_loss: 0.5536\n",
      "Epoch 30/50\n",
      "\u001b[1m12/12\u001b[0m \u001b[32m━━━━━━━━━━━━━━━━━━━━\u001b[0m\u001b[37m\u001b[0m \u001b[1m0s\u001b[0m 24ms/step - accuracy: 0.8522 - loss: 0.5018 - val_accuracy: 0.8876 - val_loss: 0.5111\n",
      "Epoch 31/50\n",
      "\u001b[1m12/12\u001b[0m \u001b[32m━━━━━━━━━━━━━━━━━━━━\u001b[0m\u001b[37m\u001b[0m \u001b[1m0s\u001b[0m 26ms/step - accuracy: 0.8345 - loss: 0.5222 - val_accuracy: 0.8764 - val_loss: 0.5636\n",
      "Epoch 32/50\n",
      "\u001b[1m12/12\u001b[0m \u001b[32m━━━━━━━━━━━━━━━━━━━━\u001b[0m\u001b[37m\u001b[0m \u001b[1m0s\u001b[0m 24ms/step - accuracy: 0.8728 - loss: 0.4042 - val_accuracy: 0.8764 - val_loss: 0.5266\n",
      "Epoch 33/50\n",
      "\u001b[1m12/12\u001b[0m \u001b[32m━━━━━━━━━━━━━━━━━━━━\u001b[0m\u001b[37m\u001b[0m \u001b[1m0s\u001b[0m 26ms/step - accuracy: 0.8717 - loss: 0.4135 - val_accuracy: 0.8876 - val_loss: 0.5280\n",
      "Epoch 34/50\n",
      "\u001b[1m12/12\u001b[0m \u001b[32m━━━━━━━━━━━━━━━━━━━━\u001b[0m\u001b[37m\u001b[0m \u001b[1m0s\u001b[0m 24ms/step - accuracy: 0.8648 - loss: 0.4119 - val_accuracy: 0.8652 - val_loss: 0.5512\n",
      "Epoch 35/50\n",
      "\u001b[1m12/12\u001b[0m \u001b[32m━━━━━━━━━━━━━━━━━━━━\u001b[0m\u001b[37m\u001b[0m \u001b[1m0s\u001b[0m 25ms/step - accuracy: 0.8833 - loss: 0.3865 - val_accuracy: 0.8876 - val_loss: 0.4969\n",
      "Epoch 36/50\n",
      "\u001b[1m12/12\u001b[0m \u001b[32m━━━━━━━━━━━━━━━━━━━━\u001b[0m\u001b[37m\u001b[0m \u001b[1m0s\u001b[0m 25ms/step - accuracy: 0.8817 - loss: 0.3891 - val_accuracy: 0.8764 - val_loss: 0.5301\n",
      "Epoch 37/50\n",
      "\u001b[1m12/12\u001b[0m \u001b[32m━━━━━━━━━━━━━━━━━━━━\u001b[0m\u001b[37m\u001b[0m \u001b[1m0s\u001b[0m 25ms/step - accuracy: 0.8805 - loss: 0.3535 - val_accuracy: 0.8764 - val_loss: 0.5826\n",
      "Epoch 38/50\n",
      "\u001b[1m12/12\u001b[0m \u001b[32m━━━━━━━━━━━━━━━━━━━━\u001b[0m\u001b[37m\u001b[0m \u001b[1m0s\u001b[0m 28ms/step - accuracy: 0.8781 - loss: 0.3486 - val_accuracy: 0.8876 - val_loss: 0.5301\n",
      "Epoch 39/50\n",
      "\u001b[1m12/12\u001b[0m \u001b[32m━━━━━━━━━━━━━━━━━━━━\u001b[0m\u001b[37m\u001b[0m \u001b[1m0s\u001b[0m 25ms/step - accuracy: 0.8996 - loss: 0.3005 - val_accuracy: 0.8876 - val_loss: 0.5194\n",
      "Epoch 40/50\n",
      "\u001b[1m12/12\u001b[0m \u001b[32m━━━━━━━━━━━━━━━━━━━━\u001b[0m\u001b[37m\u001b[0m \u001b[1m0s\u001b[0m 28ms/step - accuracy: 0.8682 - loss: 0.3599 - val_accuracy: 0.8876 - val_loss: 0.5483\n",
      "Epoch 41/50\n",
      "\u001b[1m12/12\u001b[0m \u001b[32m━━━━━━━━━━━━━━━━━━━━\u001b[0m\u001b[37m\u001b[0m \u001b[1m0s\u001b[0m 25ms/step - accuracy: 0.8941 - loss: 0.2944 - val_accuracy: 0.8989 - val_loss: 0.5816\n",
      "Epoch 42/50\n",
      "\u001b[1m12/12\u001b[0m \u001b[32m━━━━━━━━━━━━━━━━━━━━\u001b[0m\u001b[37m\u001b[0m \u001b[1m0s\u001b[0m 27ms/step - accuracy: 0.8941 - loss: 0.3360 - val_accuracy: 0.8764 - val_loss: 0.5073\n",
      "Epoch 43/50\n",
      "\u001b[1m12/12\u001b[0m \u001b[32m━━━━━━━━━━━━━━━━━━━━\u001b[0m\u001b[37m\u001b[0m \u001b[1m0s\u001b[0m 26ms/step - accuracy: 0.8959 - loss: 0.3329 - val_accuracy: 0.8989 - val_loss: 0.5148\n",
      "Epoch 44/50\n",
      "\u001b[1m12/12\u001b[0m \u001b[32m━━━━━━━━━━━━━━━━━━━━\u001b[0m\u001b[37m\u001b[0m \u001b[1m0s\u001b[0m 25ms/step - accuracy: 0.9039 - loss: 0.2785 - val_accuracy: 0.8876 - val_loss: 0.5617\n",
      "Epoch 45/50\n",
      "\u001b[1m12/12\u001b[0m \u001b[32m━━━━━━━━━━━━━━━━━━━━\u001b[0m\u001b[37m\u001b[0m \u001b[1m0s\u001b[0m 28ms/step - accuracy: 0.8797 - loss: 0.3661 - val_accuracy: 0.8876 - val_loss: 0.4865\n",
      "Epoch 46/50\n",
      "\u001b[1m12/12\u001b[0m \u001b[32m━━━━━━━━━━━━━━━━━━━━\u001b[0m\u001b[37m\u001b[0m \u001b[1m0s\u001b[0m 27ms/step - accuracy: 0.8878 - loss: 0.3379 - val_accuracy: 0.8989 - val_loss: 0.5170\n",
      "Epoch 47/50\n",
      "\u001b[1m12/12\u001b[0m \u001b[32m━━━━━━━━━━━━━━━━━━━━\u001b[0m\u001b[37m\u001b[0m \u001b[1m0s\u001b[0m 28ms/step - accuracy: 0.9192 - loss: 0.2867 - val_accuracy: 0.9101 - val_loss: 0.5250\n",
      "Epoch 48/50\n",
      "\u001b[1m12/12\u001b[0m \u001b[32m━━━━━━━━━━━━━━━━━━━━\u001b[0m\u001b[37m\u001b[0m \u001b[1m0s\u001b[0m 25ms/step - accuracy: 0.9177 - loss: 0.2628 - val_accuracy: 0.9101 - val_loss: 0.5147\n",
      "Epoch 49/50\n",
      "\u001b[1m12/12\u001b[0m \u001b[32m━━━━━━━━━━━━━━━━━━━━\u001b[0m\u001b[37m\u001b[0m \u001b[1m0s\u001b[0m 28ms/step - accuracy: 0.9099 - loss: 0.2763 - val_accuracy: 0.8989 - val_loss: 0.5497\n",
      "Epoch 50/50\n",
      "\u001b[1m12/12\u001b[0m \u001b[32m━━━━━━━━━━━━━━━━━━━━\u001b[0m\u001b[37m\u001b[0m \u001b[1m0s\u001b[0m 25ms/step - accuracy: 0.9209 - loss: 0.2582 - val_accuracy: 0.8764 - val_loss: 0.5478\n",
      "\n",
      "Avaliação do Modelo no Conjunto de Teste:\n",
      "Loss no Teste: 0.5478\n",
      "Acurácia no Teste: 0.8764\n"
     ]
    }
   ],
   "source": [
    "# Certifique-se de que X_train, y_train, X_test, y_test e num_classes\n",
    "# estejam disponíveis no seu ambiente a partir da execução anterior.\n",
    "\n",
    "# Definir a arquitetura do modelo CNN\n",
    "model = Sequential([\n",
    "    # Primeira camada convolucional\n",
    "    Conv2D(32, (3, 3), activation='relu', input_shape=(48, 48, 1)),\n",
    "    MaxPooling2D((2, 2)),\n",
    "    Dropout(0.25),\n",
    "\n",
    "    # Segunda camada convolucional\n",
    "    Conv2D(64, (3, 3), activation='relu'),\n",
    "    MaxPooling2D((2, 2)),\n",
    "    Dropout(0.25),\n",
    "\n",
    "    # Terceira camada convolucional (opcional, pode-se começar com menos e adicionar)\n",
    "    Conv2D(128, (3, 3), activation='relu'),\n",
    "    MaxPooling2D((2, 2)),\n",
    "    Dropout(0.25),\n",
    "\n",
    "    # Achatamento (Flatten) para conectar camadas convolucionais a camadas densas\n",
    "    Flatten(),\n",
    "\n",
    "    # Camadas densas (Fully Connected)\n",
    "    Dense(128, activation='relu'),\n",
    "    Dropout(0.5),\n",
    "\n",
    "    # Camada de saída\n",
    "    Dense(num_classes, activation='softmax') # num_classes deve ser 7 (o número de emoções)\n",
    "])\n",
    "\n",
    "# Compilar o modelo\n",
    "# Usamos Adam como otimizador e categorical_crossentropy como função de perda para one-hot encoded labels\n",
    "model.compile(optimizer=Adam(learning_rate=0.001), loss='categorical_crossentropy', metrics=['accuracy'])\n",
    "\n",
    "# Exibir o resumo do modelo (número de parâmetros, camadas, etc.)\n",
    "print(\"Resumo do Modelo:\")\n",
    "model.summary()\n",
    "\n",
    "# Treinar o modelo\n",
    "# Ajuste epochs e batch_size conforme sua máquina e a performance desejada\n",
    "# validation_data é crucial para monitorar overfitting\n",
    "history = model.fit(\n",
    "    X_train,\n",
    "    y_train,\n",
    "    epochs=50, # Um bom número inicial, você pode ajustar\n",
    "    batch_size=64, # Ajuste conforme sua RAM/GPU\n",
    "    validation_data=(X_test, y_test),\n",
    "    verbose=1\n",
    ")\n",
    "\n",
    "# Avaliar o modelo no conjunto de teste\n",
    "print(\"\\nAvaliação do Modelo no Conjunto de Teste:\")\n",
    "loss, accuracy = model.evaluate(X_test, y_test, verbose=0)\n",
    "print(f\"Loss no Teste: {loss:.4f}\")\n",
    "print(f\"Acurácia no Teste: {accuracy:.4f}\")\n",
    "\n",
    "# Salvar o modelo treinado (opcional, mas recomendado para uso futuro)\n",
    "# model.save('modelo_emocao_ckextended.h5')\n",
    "# print(\"\\nModelo salvo como 'modelo_emocao_ckextended.h5'\")"
   ]
  },
  {
   "cell_type": "code",
   "execution_count": 10,
   "id": "d58b1f60",
   "metadata": {},
   "outputs": [],
   "source": [
    "import matplotlib.pyplot as plt\n",
    "from sklearn.metrics import classification_report, confusion_matrix\n",
    "import seaborn as sns # Para visualização da matriz de confusão"
   ]
  },
  {
   "cell_type": "code",
   "execution_count": 11,
   "id": "167d38e3",
   "metadata": {},
   "outputs": [
    {
     "name": "stdout",
     "output_type": "stream",
     "text": [
      "\u001b[1m3/3\u001b[0m \u001b[32m━━━━━━━━━━━━━━━━━━━━\u001b[0m\u001b[37m\u001b[0m \u001b[1m0s\u001b[0m 9ms/step \n",
      "\n",
      "Relatório de Classificação:\n",
      "              precision    recall  f1-score   support\n",
      "\n",
      "       Raiva       0.67      0.50      0.57         4\n",
      "    Desgosto       1.00      0.67      0.80         6\n",
      "        Medo       0.00      0.00      0.00         2\n",
      "  Felicidade       0.78      1.00      0.88         7\n",
      "    Tristeza       0.50      0.33      0.40         3\n",
      "    Surpresa       1.00      0.88      0.93         8\n",
      "      Neutro       0.89      0.97      0.93        59\n",
      "\n",
      "    accuracy                           0.88        89\n",
      "   macro avg       0.69      0.62      0.64        89\n",
      "weighted avg       0.86      0.88      0.86        89\n",
      "\n"
     ]
    },
    {
     "name": "stderr",
     "output_type": "stream",
     "text": [
      "c:\\Users\\PedroNeves\\Desktop\\Projetinhos\\Realtime-Emotion-Detection\\.venv\\lib\\site-packages\\sklearn\\metrics\\_classification.py:1731: UndefinedMetricWarning: Precision is ill-defined and being set to 0.0 in labels with no predicted samples. Use `zero_division` parameter to control this behavior.\n",
      "  _warn_prf(average, modifier, f\"{metric.capitalize()} is\", result.shape[0])\n",
      "c:\\Users\\PedroNeves\\Desktop\\Projetinhos\\Realtime-Emotion-Detection\\.venv\\lib\\site-packages\\sklearn\\metrics\\_classification.py:1731: UndefinedMetricWarning: Precision is ill-defined and being set to 0.0 in labels with no predicted samples. Use `zero_division` parameter to control this behavior.\n",
      "  _warn_prf(average, modifier, f\"{metric.capitalize()} is\", result.shape[0])\n",
      "c:\\Users\\PedroNeves\\Desktop\\Projetinhos\\Realtime-Emotion-Detection\\.venv\\lib\\site-packages\\sklearn\\metrics\\_classification.py:1731: UndefinedMetricWarning: Precision is ill-defined and being set to 0.0 in labels with no predicted samples. Use `zero_division` parameter to control this behavior.\n",
      "  _warn_prf(average, modifier, f\"{metric.capitalize()} is\", result.shape[0])\n"
     ]
    },
    {
     "name": "stdout",
     "output_type": "stream",
     "text": [
      "\n",
      "Matriz de Confusão salva como 'confusion_matrix.png'\n"
     ]
    },
    {
     "data": {
      "image/png": "[encoded data removed]",
      "text/plain": [
       "<Figure size 800x600 with 2 Axes>"
      ]
     },
     "metadata": {},
     "output_type": "display_data"
    }
   ],
   "source": [
    "\n",
    "# Certifique-se de que 'model', X_test, y_test, num_classes e emotion_labels\n",
    "# estejam disponíveis no seu ambiente a partir das execuções anteriores.\n",
    "\n",
    "# 1. Obter as predições do modelo para o conjunto de teste\n",
    "y_pred_probs = model.predict(X_test)\n",
    "y_pred_classes = np.argmax(y_pred_probs, axis=1) # Converter probabilidades para classes\n",
    "\n",
    "# Obter os rótulos verdadeiros (classes) do conjunto de teste\n",
    "y_true_classes = np.argmax(y_test, axis=1)\n",
    "\n",
    "# 2. Gerar o Relatório de Classificação (Precision, Recall, F1-Score)\n",
    "print(\"\\nRelatório de Classificação:\")\n",
    "# Usar o dicionário emotion_labels para obter os nomes das classes\n",
    "target_names = [emotion_labels[i] for i in sorted(emotion_labels.keys())]\n",
    "print(classification_report(y_true_classes, y_pred_classes, target_names=target_names))\n",
    "\n",
    "# 3. Gerar e Plotar a Matriz de Confusão\n",
    "cm = confusion_matrix(y_true_classes, y_pred_classes)\n",
    "\n",
    "plt.figure(figsize=(8, 6))\n",
    "sns.heatmap(cm, annot=True, fmt='d', cmap='Blues',\n",
    "            xticklabels=target_names, yticklabels=target_names)\n",
    "plt.xlabel('Predito')\n",
    "plt.ylabel('Verdadeiro')\n",
    "plt.title('Matriz de Confusão')\n",
    "plt.xticks(rotation=45, ha='right')\n",
    "plt.yticks(rotation=0)\n",
    "plt.tight_layout()\n",
    "plt.savefig('confusion_matrix.png')\n",
    "print(\"\\nMatriz de Confusão salva como 'confusion_matrix.png'\")"
   ]
  },
  {
   "cell_type": "code",
   "execution_count": 13,
   "id": "202b3c81",
   "metadata": {},
   "outputs": [
    {
     "name": "stderr",
     "output_type": "stream",
     "text": [
      "WARNING:absl:You are saving your model as an HDF5 file via `model.save()` or `keras.saving.save_model(model)`. This file format is considered legacy. We recommend using instead the native Keras format, e.g. `model.save('my_model.keras')` or `keras.saving.save_model(model, 'my_model.keras')`. \n"
     ]
    },
    {
     "name": "stdout",
     "output_type": "stream",
     "text": [
      "\n",
      "Modelo salvo como 'modelo_emocao_ckextended.h5'\n"
     ]
    }
   ],
   "source": [
    "# Salvar o modelo treinado (após o treinamento e antes da avaliação)\n",
    "# Certifique-se de que o objeto 'model' esteja disponível após o treinamento bem-sucedido\n",
    "model.save('modelo_emocao_ckextended.h5')\n",
    "print(\"\\nModelo salvo como 'modelo_emocao_ckextended.h5'\")"
   ]
  }
 ],
 "metadata": {
  "kernelspec": {
   "display_name": ".venv",
   "language": "python",
   "name": "python3"
  },
  "language_info": {
   "codemirror_mode": {
    "name": "ipython",
    "version": 3
   },
   "file_extension": ".py",
   "mimetype": "text/x-python",
   "name": "python",
   "nbconvert_exporter": "python",
   "pygments_lexer": "ipython3",
   "version": "3.10.0"
  }
 },
 "nbformat": 4,
 "nbformat_minor": 5
}
